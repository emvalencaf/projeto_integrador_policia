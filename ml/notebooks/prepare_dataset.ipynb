{
 "cells": [
  {
   "cell_type": "markdown",
   "id": "0b8562c0",
   "metadata": {},
   "source": [
    "# Preparando o Dataset de Crimes de Chicago"
   ]
  },
  {
   "cell_type": "code",
   "execution_count": 1,
   "id": "330a1286",
   "metadata": {},
   "outputs": [],
   "source": [
    "import pandas as pd\n",
    "from pathlib import Path"
   ]
  },
  {
   "cell_type": "code",
   "execution_count": 2,
   "id": "a503bc5f",
   "metadata": {},
   "outputs": [],
   "source": [
    "DATASET_PATH = Path(\"../dataset\")"
   ]
  },
  {
   "cell_type": "markdown",
   "id": "b7e8df5b",
   "metadata": {},
   "source": [
    "Fonte: https://data.cityofchicago.org/Public-Safety/Crimes-2025/t7ek-mgzi/explore/query/SELECT%0A%20%20%60id%60%2C%0A%20%20%60case_number%60%2C%0A%20%20%60date%60%2C%0A%20%20%60block%60%2C%0A%20%20%60iucr%60%2C%0A%20%20%60primary_type%60%2C%0A%20%20%60description%60%2C%0A%20%20%60location_description%60%2C%0A%20%20%60arrest%60%2C%0A%20%20%60domestic%60%2C%0A%20%20%60beat%60%2C%0A%20%20%60district%60%2C%0A%20%20%60ward%60%2C%0A%20%20%60community_area%60%2C%0A%20%20%60fbi_code%60%2C%0A%20%20%60x_coordinate%60%2C%0A%20%20%60y_coordinate%60%2C%0A%20%20%60year%60%2C%0A%20%20%60updated_on%60%2C%0A%20%20%60latitude%60%2C%0A%20%20%60longitude%60%2C%0A%20%20%60location%60%0AWHERE%0A%20%20%60date%60%0A%20%20%20%20BETWEEN%20%222020-01-01T21%3A04%3A17%22%20%3A%3A%20floating_timestamp%0A%20%20%20%20AND%20%222025-09-30T21%3A04%3A17%22%20%3A%3A%20floating_timestamp/page/filter"
   ]
  },
  {
   "cell_type": "code",
   "execution_count": 5,
   "id": "a0a6f43c",
   "metadata": {},
   "outputs": [],
   "source": [
    "df = pd.read_csv(DATASET_PATH / \"Crimes_-_2025_20250930.csv\")"
   ]
  },
  {
   "cell_type": "code",
   "execution_count": 7,
   "id": "a04ae46f",
   "metadata": {},
   "outputs": [
    {
     "name": "stdout",
     "output_type": "stream",
     "text": [
      "<class 'pandas.core.frame.DataFrame'>\n",
      "RangeIndex: 172307 entries, 0 to 172306\n",
      "Data columns (total 22 columns):\n",
      " #   Column                Non-Null Count   Dtype  \n",
      "---  ------                --------------   -----  \n",
      " 0   ID                    172307 non-null  int64  \n",
      " 1   Case Number           172307 non-null  object \n",
      " 2   Date                  172307 non-null  object \n",
      " 3   Block                 172307 non-null  object \n",
      " 4   IUCR                  172307 non-null  object \n",
      " 5   Primary Type          172307 non-null  object \n",
      " 6   Description           172307 non-null  object \n",
      " 7   Location Description  171642 non-null  object \n",
      " 8   Arrest                172307 non-null  bool   \n",
      " 9   Domestic              172307 non-null  bool   \n",
      " 10  Beat                  172307 non-null  int64  \n",
      " 11  District              172307 non-null  int64  \n",
      " 12  Ward                  172306 non-null  float64\n",
      " 13  Community Area        172306 non-null  float64\n",
      " 14  FBI Code              172307 non-null  object \n",
      " 15  X Coordinate          172217 non-null  float64\n",
      " 16  Y Coordinate          172217 non-null  float64\n",
      " 17  Year                  172307 non-null  int64  \n",
      " 18  Updated On            172307 non-null  object \n",
      " 19  Latitude              172217 non-null  float64\n",
      " 20  Longitude             172217 non-null  float64\n",
      " 21  Location              172217 non-null  object \n",
      "dtypes: bool(2), float64(6), int64(4), object(10)\n",
      "memory usage: 26.6+ MB\n"
     ]
    }
   ],
   "source": [
    "df.info()"
   ]
  },
  {
   "cell_type": "code",
   "execution_count": 11,
   "id": "7641646e",
   "metadata": {},
   "outputs": [],
   "source": [
    "df.rename(columns={\n",
    "    \"ID\" : \"id_ocorrencia\",\n",
    "    \"Latitude\" : \"latitude\",\n",
    "    \"Longitude\" : \"longitude\",\n",
    "    \"Date\" : \"data_ocorrencia\",\n",
    "    \"Primary Type\": \"tipo_crime\",\n",
    "    \"Description\" : \"descricao_modus_operandi\",\n",
    "    \"Community Area\" : \"bairro\"\n",
    "}, inplace=True)"
   ]
  },
  {
   "cell_type": "code",
   "execution_count": 12,
   "id": "7445f9f8",
   "metadata": {},
   "outputs": [],
   "source": [
    "df[[\n",
    "    \"id_ocorrencia\",\n",
    "    \"latitude\",\n",
    "    \"longitude\",\n",
    "    \"data_ocorrencia\",\n",
    "    \"tipo_crime\",\n",
    "    \"descricao_modus_operandi\",\n",
    "    \"bairro\"\n",
    "]].to_csv(DATASET_PATH / \"dataset_ocorrencias_chicago.csv\", index=False)"
   ]
  }
 ],
 "metadata": {
  "kernelspec": {
   "display_name": "venv (3.11.5)",
   "language": "python",
   "name": "python3"
  },
  "language_info": {
   "codemirror_mode": {
    "name": "ipython",
    "version": 3
   },
   "file_extension": ".py",
   "mimetype": "text/x-python",
   "name": "python",
   "nbconvert_exporter": "python",
   "pygments_lexer": "ipython3",
   "version": "3.11.5"
  }
 },
 "nbformat": 4,
 "nbformat_minor": 5
}
